{
 "cells": [
  {
   "cell_type": "code",
   "execution_count": 2,
   "metadata": {},
   "outputs": [
    {
     "name": "stdout",
     "output_type": "stream",
     "text": [
      "Produtos da loja de comida: ['Cerveja', 'Vodka', 'Energético', 'Wisk', 'Pinga']\n",
      "Anos de nascimento de familiares e amigos: [1984, 1985, 2004, 2007, 2007]\n"
     ]
    }
   ],
   "source": [
    "# Array de produtos de uma loja de comida\n",
    "produtos_comida = ['Maçãs', 'Arroz', 'Leite', 'Pão', 'Frango']\n",
    "\n",
    "# Array de anos de nascimento de familiares e amigos\n",
    "anos_nascimento = [1984, 1985, 2007, 2014, 2000]\n",
    "\n",
    "print(\"Produtos da loja de comida:\", produtos_comida)\n",
    "print(\"Anos de nascimento de familiares e amigos:\", anos_nascimento)\n"
   ]
  }
 ],
 "metadata": {
  "kernelspec": {
   "display_name": "Python 3",
   "language": "python",
   "name": "python3"
  },
  "language_info": {
   "codemirror_mode": {
    "name": "ipython",
    "version": 3
   },
   "file_extension": ".py",
   "mimetype": "text/x-python",
   "name": "python",
   "nbconvert_exporter": "python",
   "pygments_lexer": "ipython3",
   "version": "3.11.6"
  }
 },
 "nbformat": 4,
 "nbformat_minor": 2
}
