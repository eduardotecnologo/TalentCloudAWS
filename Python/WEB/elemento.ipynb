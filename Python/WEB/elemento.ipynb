{
 "cells": [
  {
   "cell_type": "code",
   "execution_count": 1,
   "metadata": {},
   "outputs": [
    {
     "name": "stdout",
     "output_type": "stream",
     "text": [
      "['1', '2', '3', '4', '5']\n",
      "['a', 'b', 'c', 'd', 'e']\n"
     ]
    }
   ],
   "source": [
    "def elementos():\n",
    "    elone = ['SSD','Flat','Mobo','Adaptador','Conector']\n",
    "    eltwo = ['2001','2002','2003','3004','2005'] \n",
    "\n",
    "    print(elone)\n",
    "    print(eltwo)\n",
    "\n",
    "elementos()"
   ]
  },
  {
   "cell_type": "code",
   "execution_count": 9,
   "metadata": {},
   "outputs": [
    {
     "name": "stdout",
     "output_type": "stream",
     "text": [
      "Quantidade de elementos: 15\n",
      "Dados no indice: Elis Regina\n",
      "Dados no indice: Moacir Santos\n",
      "Dados no indice: Gal Costa\n"
     ]
    }
   ],
   "source": [
    "def listaMusicos():\n",
    "    lista_musicos = [ 'Djavan', 'Roberto Carlos', 'Elis Regina', 'Tom Jobim', 'Milton Nascimento', 'Chico Buarque', 'Nara Leão', 'Pitty', 'Simonal', 'Moacir Santos', 'Caetano Veloso', 'Elza Soares', 'Paulinho da Viola', 'Yamandú Costa', 'Gal Costa'] \n",
    "    qtd_elementos = len(lista_musicos)\n",
    "    indice_2 = lista_musicos[2]\n",
    "    indice_9 = lista_musicos[9]\n",
    "    indice_14 = lista_musicos[14]\n",
    "    print(f\"Quantidade de elementos: {qtd_elementos}\")\n",
    "    print(f\"Dados no indice: {indice_2}\")\n",
    "    print(f\"Dados no indice: {indice_9}\")\n",
    "    print(f\"Dados no indice: {indice_14}\")\n",
    "listaMusicos()"
   ]
  }
 ],
 "metadata": {
  "kernelspec": {
   "display_name": "Python 3",
   "language": "python",
   "name": "python3"
  },
  "language_info": {
   "codemirror_mode": {
    "name": "ipython",
    "version": 3
   },
   "file_extension": ".py",
   "mimetype": "text/x-python",
   "name": "python",
   "nbconvert_exporter": "python",
   "pygments_lexer": "ipython3",
   "version": "3.11.6"
  }
 },
 "nbformat": 4,
 "nbformat_minor": 2
}
