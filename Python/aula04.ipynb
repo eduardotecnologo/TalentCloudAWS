{
 "cells": [
  {
   "cell_type": "code",
   "execution_count": 15,
   "metadata": {},
   "outputs": [
    {
     "name": "stdout",
     "output_type": "stream",
     "text": [
      "\\Informações:\n",
      "Minha bebida favorita é: Cerveja\n",
      "Tipo: Alcoólica\n",
      "Preço: R$ 9.00\n"
     ]
    }
   ],
   "source": [
    "#Aula 04 - Python\n",
    "def verificar_alcool(teor_alcoolico):\n",
    "    if teor_alcoolico > 0:\n",
    "        return \"Alcoólica\"\n",
    "    else:\n",
    "        return \"Não alcoólica\"\n",
    "nome_bebida = input(\"Digite o nome da sua bebida favorita: \")\n",
    "teor_alcoolico = float(input(\"Digite o teor alcoólico da bebida (em porcentagem): \"))\n",
    "preco_bebida = float(input(\"Digite o preço da bebida: \"))\n",
    "tipo_bebida = verificar_alcool(teor_alcoolico)\n",
    "print(\"\\Informações:\")\n",
    "print(\"Minha bebida favorita é:\", nome_bebida)\n",
    "print(\"Tipo:\", tipo_bebida)\n",
    "print(\"Preço:\", \"R$ {:.2f}\".format(preco_bebida))\n"
   ]
  },
  {
   "cell_type": "code",
   "execution_count": null,
   "metadata": {},
   "outputs": [],
   "source": []
  },
  {
   "cell_type": "code",
   "execution_count": 2,
   "metadata": {},
   "outputs": [
    {
     "name": "stdout",
     "output_type": "stream",
     "text": [
      "Sobremesa Favorita: Pudim\n",
      "Preço da Sobremesa: R$ 25.90\n",
      "Número de Convidados: 10\n",
      "Valor Total: R$ 259.00\n",
      "Valor por Convidado: R$ 25.90\n"
     ]
    }
   ],
   "source": [
    "sobremesa_favorita = \"Pudim\"\n",
    "preco_sobremesa = 25.90 \n",
    "qtd_convidados = 10  \n",
    "\n",
    "vlr_total = preco_sobremesa * qtd_convidados\n",
    "vlr_por_convidado = vlr_total / qtd_convidados\n",
    "print(\"Sobremesa Favorita:\", sobremesa_favorita)\n",
    "print(\"Preço da Sobremesa: R$ {:.2f}\".format(preco_sobremesa))\n",
    "print(\"Número de Convidados:\", qtd_convidados)\n",
    "print(\"Valor Total: R$ {:.2f}\".format(vlr_total))\n",
    "print(\"Valor por Convidado: R$ {:.2f}\".format(vlr_por_convidado))"
   ]
  }
 ],
 "metadata": {
  "kernelspec": {
   "display_name": "Python 3",
   "language": "python",
   "name": "python3"
  },
  "language_info": {
   "codemirror_mode": {
    "name": "ipython",
    "version": 3
   },
   "file_extension": ".py",
   "mimetype": "text/x-python",
   "name": "python",
   "nbconvert_exporter": "python",
   "pygments_lexer": "ipython3",
   "version": "3.11.6"
  }
 },
 "nbformat": 4,
 "nbformat_minor": 2
}
