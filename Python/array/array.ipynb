{
 "cells": [
  {
   "cell_type": "code",
   "execution_count": 2,
   "metadata": {},
   "outputs": [
    {
     "name": "stdout",
     "output_type": "stream",
     "text": [
      "Qual o nome deseja procurar?\n",
      "Não Encontramos o nome: tyggbyu\n",
      "Qual o nome deseja procurar?\n",
      "Não Encontramos o nome: \n",
      "Qual o nome deseja procurar?\n",
      "Não Encontramos o nome: \n",
      "Qual o nome deseja procurar?\n",
      "Não Encontramos o nome: \n",
      "Qual o nome deseja procurar?\n",
      "Não Encontramos o nome: \n",
      "Qual o nome deseja procurar?\n",
      "Não Encontramos o nome: \n",
      "Qual o nome deseja procurar?\n",
      "Não Encontramos o nome: \n",
      "Qual o nome deseja procurar?\n",
      "Não Encontramos o nome: \n",
      "Qual o nome deseja procurar?\n",
      "Não Encontramos o nome: \n",
      "Qual o nome deseja procurar?\n",
      "Não Encontramos o nome: \n",
      "Qual o nome deseja procurar?\n",
      "Não Encontramos o nome: \n",
      "Qual o nome deseja procurar?\n",
      "Não Encontramos o nome: \n",
      "Qual o nome deseja procurar?\n",
      "Não Encontramos o nome: \n",
      "Qual o nome deseja procurar?\n",
      "Não Encontramos o nome: \n",
      "Qual o nome deseja procurar?\n",
      "Não Encontramos o nome: \n",
      "Qual o nome deseja procurar?\n",
      "Não Encontramos o nome: \n",
      "Qual o nome deseja procurar?\n",
      "Não Encontramos o nome: \n",
      "Qual o nome deseja procurar?\n",
      "Não Encontramos o nome: \n",
      "Qual o nome deseja procurar?\n",
      "Não Encontramos o nome: \n",
      "Qual o nome deseja procurar?\n"
     ]
    }
   ],
   "source": [
    "def achar_elemento(arr):\n",
    "  achou = False\n",
    "  frase = \"\"\n",
    "\n",
    "  while(achou == False):\n",
    "    print('Qual o nome deseja procurar?')\n",
    "    elem = input()\n",
    "\n",
    "    for i in range(len(arr)):\n",
    "      if arr[i] == elem:\n",
    "        achou = True\n",
    "        indice = i\n",
    "\n",
    "    if(achou == False):\n",
    "      frase = ('Não Encontramos o nome: ' + elem )\n",
    "      print(frase)\n",
    "    else:\n",
    "      frase = ('Encontramos o nome: ' + elem + \" no índice: \" + str(indice))\n",
    "      print(frase)\n",
    "\n",
    "nomes = ['Rafael', 'João', 'Julia', 'Marcela', 'Rubens', 'Keila', 'Carolina']\n",
    "achar_elemento(nomes)"
   ]
  },
  {
   "cell_type": "code",
   "execution_count": 2,
   "metadata": {},
   "outputs": [
    {
     "name": "stdout",
     "output_type": "stream",
     "text": [
      "Primeiro\n",
      "Segundo\n",
      "Terceito\n"
     ]
    }
   ],
   "source": [
    "def achar_elemento(arr):\n",
    "    achou = False\n",
    "    for i in range(len(arr)):\n",
    "        print(arr[i])\n",
    "        \n",
    "ordem = ['Primeiro','Segundo','Terceito']\n",
    "achar_elemento(ordem)"
   ]
  },
  {
   "cell_type": "code",
   "execution_count": 3,
   "metadata": {},
   "outputs": [
    {
     "name": "stdout",
     "output_type": "stream",
     "text": [
      "Temos máscaras faciais à venda!\n",
      "Temos batons à venda!\n",
      "Temos esmaltes à venda!\n",
      "Temos perfumes à venda!\n",
      "Temos loções à venda!\n",
      "Temos xampus à venda!\n",
      "Temos sabonetes à venda!\n",
      "Temos delineadores à venda!\n"
     ]
    }
   ],
   "source": [
    "lista_produtos = ['máscaras faciais', 'batons', 'esmaltes', 'perfumes', 'loções', 'xampus', 'sabonetes', 'delineadores'] \n",
    "for produto in lista_produtos:\n",
    "    print(f'Temos {produto} à venda!')"
   ]
  },
  {
   "cell_type": "code",
   "execution_count": 10,
   "metadata": {},
   "outputs": [
    {
     "name": "stdout",
     "output_type": "stream",
     "text": [
      "Lista atualizada de produtos:\n",
      "Temos máscaras faciais à venda!\n",
      "Temos rímel à venda!\n",
      "Temos esmaltes à venda!\n",
      "Temos perfumes à venda!\n",
      "Temos cremes hidratantes à venda!\n",
      "Temos xampus à venda!\n",
      "Temos sabonetes à venda!\n",
      "Temos pó compacto à venda!\n",
      "Temos protetor solar à venda!\n"
     ]
    }
   ],
   "source": [
    "lista_produtos = ['máscaras faciais', 'batons', 'esmaltes', 'perfumes', 'loções', 'xampus', 'sabonetes', 'delineadores'] \n",
    "\n",
    "lista_produtos[1] = 'rímel'  \n",
    "lista_produtos[4] = 'cremes hidratantes'  \n",
    "lista_produtos.remove('delineadores')  \n",
    "\n",
    "lista_produtos.append('pó compacto')\n",
    "lista_produtos.append('protetor solar')\n",
    "\n",
    "print(\"Lista atualizada de produtos:\")\n",
    "for produto in lista_produtos:\n",
    "    print(f'Temos {produto} à venda!')"
   ]
  },
  {
   "cell_type": "code",
   "execution_count": 5,
   "metadata": {},
   "outputs": [
    {
     "name": "stdout",
     "output_type": "stream",
     "text": [
      "['melancia', 'morango', 'abacaxi']\n",
      "['melancia', 'morango', 'abacaxi', 'kiwi']\n"
     ]
    }
   ],
   "source": [
    "lista_frutas = ['melancia','morango','abacaxi']\n",
    "print(lista_frutas)\n",
    "lista_frutas.append('kiwi')\n",
    "print(lista_frutas)"
   ]
  },
  {
   "cell_type": "code",
   "execution_count": 6,
   "metadata": {},
   "outputs": [
    {
     "name": "stdout",
     "output_type": "stream",
     "text": [
      "['melancia', 'morango', 'abacaxi']\n",
      "['melancia', 'morango']\n"
     ]
    }
   ],
   "source": [
    "lista_frutas = ['melancia','morango','abacaxi']\n",
    "print(lista_frutas)\n",
    "lista_frutas.pop()\n",
    "print(lista_frutas)"
   ]
  }
 ],
 "metadata": {
  "kernelspec": {
   "display_name": "Python 3",
   "language": "python",
   "name": "python3"
  },
  "language_info": {
   "codemirror_mode": {
    "name": "ipython",
    "version": 3
   },
   "file_extension": ".py",
   "mimetype": "text/x-python",
   "name": "python",
   "nbconvert_exporter": "python",
   "pygments_lexer": "ipython3",
   "version": "3.10.12"
  }
 },
 "nbformat": 4,
 "nbformat_minor": 2
}
