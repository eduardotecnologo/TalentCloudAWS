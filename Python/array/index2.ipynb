{
 "cells": [
  {
   "cell_type": "code",
   "execution_count": null,
   "metadata": {},
   "outputs": [],
   "source": [
    "def achar_nome():\n",
    "    nomes = [\"Maria\", \"João\", \"José\"]\n",
    "\n",
    "    nome = input(\"Digite um nome: \")\n",
    "\n",
    "    if nome in nomes:\n",
    "        print(\"O nome '{}' existe na lista.\".format(nome))\n",
    "    else:\n",
    "        print(\"O nome '{}' não existe na lista.\".format(nome))\n",
    "achar_nome()"
   ]
  }
 ],
 "metadata": {
  "kernelspec": {
   "display_name": "Python 3",
   "language": "python",
   "name": "python3"
  },
  "language_info": {
   "codemirror_mode": {
    "name": "ipython",
    "version": 3
   },
   "file_extension": ".py",
   "mimetype": "text/x-python",
   "name": "python",
   "nbconvert_exporter": "python",
   "pygments_lexer": "ipython3",
   "version": "3.10.12"
  }
 },
 "nbformat": 4,
 "nbformat_minor": 2
}
