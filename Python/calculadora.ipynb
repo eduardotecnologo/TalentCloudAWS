{
 "cells": [
  {
   "cell_type": "code",
   "execution_count": null,
   "metadata": {},
   "outputs": [],
   "source": [
    "def calculadora():\n",
    "    while True:\n",
    "        # Mostra as opções disponíveis\n",
    "        print(\"Escolha a operação:\")\n",
    "        print(\"1: Soma\")\n",
    "        print(\"2: Subtração\")\n",
    "        print(\"3: Multiplicação\")\n",
    "        print(\"4: Divisão\")\n",
    "        print(\"*: Sair\")\n",
    "\n",
    "        # Solicita a escolha do usuário\n",
    "        escolha = input(\"Digite o número da operação desejada: \")\n",
    "\n",
    "        # Verifica a escolha do usuário\n",
    "        if escolha == '*':\n",
    "            print(\"Saindo da calculadora. Até mais!\")\n",
    "            break\n",
    "        elif escolha in ['1', '2', '3', '4']:\n",
    "            # Solicita os valores ao usuário\n",
    "            num1 = float(input(\"Digite o primeiro valor: \"))\n",
    "            num2 = float(input(\"Digite o segundo valor: \"))\n",
    "\n",
    "            # Executa a operação selecionada\n",
    "            if escolha == '1':\n",
    "                resultado = num1 + num2\n",
    "                print(\"Resultado: \", resultado)\n",
    "            elif escolha == '2':\n",
    "                resultado = num1 - num2\n",
    "                print(\"Resultado: \", resultado)\n",
    "            elif escolha == '3':\n",
    "                resultado = num1 * num2\n",
    "                print(\"Resultado: \", resultado)\n",
    "            elif escolha == '4':\n",
    "                if num2 != 0:\n",
    "                    resultado = num1 / num2\n",
    "                    print(\"Resultado: \", resultado)\n",
    "                else:\n",
    "                    print(\"Erro: Divisão por zero.\")\n",
    "        else:\n",
    "            print(\"Essa opção não existe. Tente novamente.\")\n",
    "\n",
    "if __name__ == \"__main__\":\n",
    "    calculadora()\n"
   ]
  },
  {
   "cell_type": "code",
   "execution_count": null,
   "metadata": {},
   "outputs": [],
   "source": [
    "print(\"Insira um número\")\n",
    "try:\n",
    "    valor = int(input())\n",
    "    valor = valor + 5\n",
    "    print(\"O valor digitado + 5 é igual a \" + str(valor))\n",
    "except:\n",
    "    print(\"Não foi digitado um número\")"
   ]
  },
  {
   "cell_type": "code",
   "execution_count": null,
   "metadata": {},
   "outputs": [],
   "source": [
    "print(\"Insira um número\")\n",
    "try:\n",
    "    valor = int(input())\n",
    "    valor = valor + 5\n",
    "    print(\"O valor digitado + 5 é igual a \" + str(valor))\n",
    "except Exception as e:\n",
    "    print(\"Não foi digitado um número\")"
   ]
  },
  {
   "cell_type": "code",
   "execution_count": null,
   "metadata": {},
   "outputs": [],
   "source": [
    "def calculadora(num1, num2, op):\n",
    "    if (op == 1):\n",
    "        res = num1 + num2\n",
    "    elif (op == 2):\n",
    "        res = num1 - num2\n",
    "    elif (op == 3):\n",
    "        res = num1 * num2\n",
    "    elif (op == 4):\n",
    "        if(num2 != 0):\n",
    "            res = num1 / num2\n",
    "        else:\n",
    "            raise Exception(\"A divisão por 0 não épossível!\")\n",
    "    else:\n",
    "        raise Exception(\"A operação não existe!\")\n",
    "    return res\n",
    "\n",
    "try:\n",
    "    res = calculadora(2,0,8)\n",
    "    print(res)\n",
    "except Exception as err:\n",
    "    print(\"Ocorreu um erro!\")\n",
    "    print(err)"
   ]
  },
  {
   "cell_type": "code",
   "execution_count": 25,
   "metadata": {},
   "outputs": [
    {
     "ename": "SyntaxError",
     "evalue": "expected ':' (237763685.py, line 14)",
     "output_type": "error",
     "traceback": [
      "\u001b[0;36m  Cell \u001b[0;32mIn[25], line 14\u001b[0;36m\u001b[0m\n\u001b[0;31m    if __name__ == \"__main__\"\u001b[0m\n\u001b[0m                             ^\u001b[0m\n\u001b[0;31mSyntaxError\u001b[0m\u001b[0;31m:\u001b[0m expected ':'\n"
     ]
    }
   ],
   "source": [
    "def checar_numero_par():\n",
    "    while True:\n",
    "        entrada = input(\"Digite um numero par! \")\n",
    "    \n",
    "        try:\n",
    "            numero = int(entrada)\n",
    "            if numero % 2 == 0:\n",
    "                return numero\n",
    "            else:\n",
    "                print(\"Você digitou um número oimpar. Tente novamente!\")\n",
    "        except ValueError:\n",
    "            print(\"Você digitou uma caractere inválido, tente novamente!\") \n",
    "\n",
    "if __name__ == \"__main__\":\n",
    "    numeros_pares = checar_numero_par()\n",
    "    print(\"Ótimo!!!Você digitou um número válido: \", numeros_pares)"
   ]
  }
 ],
 "metadata": {
  "kernelspec": {
   "display_name": "Python 3",
   "language": "python",
   "name": "python3"
  },
  "language_info": {
   "codemirror_mode": {
    "name": "ipython",
    "version": 3
   },
   "file_extension": ".py",
   "mimetype": "text/x-python",
   "name": "python",
   "nbconvert_exporter": "python",
   "pygments_lexer": "ipython3",
   "version": "3.11.6"
  }
 },
 "nbformat": 4,
 "nbformat_minor": 2
}
