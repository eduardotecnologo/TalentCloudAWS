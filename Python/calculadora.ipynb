{
 "cells": [
  {
   "cell_type": "code",
   "execution_count": null,
   "metadata": {},
   "outputs": [],
   "source": [
    "def calculadora():\n",
    "    while True:\n",
    "        # Mostra as opções disponíveis\n",
    "        print(\"Escolha a operação:\")\n",
    "        print(\"1: Soma\")\n",
    "        print(\"2: Subtração\")\n",
    "        print(\"3: Multiplicação\")\n",
    "        print(\"4: Divisão\")\n",
    "        print(\"*: Sair\")\n",
    "\n",
    "        # Solicita a escolha do usuário\n",
    "        escolha = input(\"Digite o número da operação desejada: \")\n",
    "\n",
    "        # Verifica a escolha do usuário\n",
    "        if escolha == '*':\n",
    "            print(\"Saindo da calculadora. Até mais!\")\n",
    "            break\n",
    "        elif escolha in ['1', '2', '3', '4']:\n",
    "            # Solicita os valores ao usuário\n",
    "            num1 = float(input(\"Digite o primeiro valor: \"))\n",
    "            num2 = float(input(\"Digite o segundo valor: \"))\n",
    "\n",
    "            # Executa a operação selecionada\n",
    "            if escolha == '1':\n",
    "                resultado = num1 + num2\n",
    "                print(\"Resultado: \", resultado)\n",
    "            elif escolha == '2':\n",
    "                resultado = num1 - num2\n",
    "                print(\"Resultado: \", resultado)\n",
    "            elif escolha == '3':\n",
    "                resultado = num1 * num2\n",
    "                print(\"Resultado: \", resultado)\n",
    "            elif escolha == '4':\n",
    "                if num2 != 0:\n",
    "                    resultado = num1 / num2\n",
    "                    print(\"Resultado: \", resultado)\n",
    "                else:\n",
    "                    print(\"Erro: Divisão por zero.\")\n",
    "        else:\n",
    "            print(\"Essa opção não existe. Tente novamente.\")\n",
    "\n",
    "if __name__ == \"__main__\":\n",
    "    calculadora()\n"
   ]
  },
  {
   "cell_type": "code",
   "execution_count": null,
   "metadata": {},
   "outputs": [],
   "source": [
    "print(\"Insira um número\")\n",
    "try:\n",
    "    valor = int(input())\n",
    "    valor = valor + 5\n",
    "    print(\"O valor digitado + 5 é igual a \" + str(valor))\n",
    "except:\n",
    "    print(\"Não foi digitado um número\")"
   ]
  },
  {
   "cell_type": "code",
   "execution_count": null,
   "metadata": {},
   "outputs": [],
   "source": [
    "print(\"Insira um número\")\n",
    "try:\n",
    "    valor = int(input())\n",
    "    valor = valor + 5\n",
    "    print(\"O valor digitado + 5 é igual a \" + str(valor))\n",
    "except Exception as e:\n",
    "    print(\"Não foi digitado um número\")"
   ]
  },
  {
   "cell_type": "code",
   "execution_count": null,
   "metadata": {},
   "outputs": [],
   "source": [
    "def calculadora(num1, num2, op):\n",
    "    if (op == 1):\n",
    "        res = num1 + num2\n",
    "    elif (op == 2):\n",
    "        res = num1 - num2\n",
    "    elif (op == 3):\n",
    "        res = num1 * num2\n",
    "    elif (op == 4):\n",
    "        if(num2 != 0):\n",
    "            res = num1 / num2\n",
    "        else:\n",
    "            raise Exception(\"A divisão por 0 não épossível!\")\n",
    "    else:\n",
    "        raise Exception(\"A operação não existe!\")\n",
    "    return res\n",
    "\n",
    "try:\n",
    "    res = calculadora(2,0,8)\n",
    "    print(res)\n",
    "except Exception as err:\n",
    "    print(\"Ocorreu um erro!\")\n",
    "    print(err)"
   ]
  },
  {
   "cell_type": "code",
   "execution_count": 27,
   "metadata": {},
   "outputs": [
    {
     "name": "stdout",
     "output_type": "stream",
     "text": [
      "Você digitou um número oimpar. Tente novamente!\n",
      "Você digitou um número oimpar. Tente novamente!\n",
      "Você digitou uma caractere inválido, tente novamente!\n",
      "Você digitou uma caractere inválido, tente novamente!\n",
      "Ótimo!!!Você digitou um número válido:  4\n"
     ]
    }
   ],
   "source": [
    "def checar_numero_par():\n",
    "    while True:\n",
    "        entrada = input(\"Digite um numero par! \")\n",
    "    \n",
    "        try:\n",
    "            numero = int(entrada)\n",
    "            if numero % 2 == 0:\n",
    "                return numero\n",
    "            else:\n",
    "                print(\"Você digitou um número oimpar. Tente novamente!\")\n",
    "        except ValueError:\n",
    "            print(\"Você digitou uma caractere inválido, tente novamente!\") \n",
    "\n",
    "if __name__ == \"__main__\":\n",
    "    numeros_pares = checar_numero_par()\n",
    "    print(\"Ótimo!!!Você digitou um número válido: \", numeros_pares)"
   ]
  },
  {
   "cell_type": "code",
   "execution_count": 1,
   "metadata": {},
   "outputs": [
    {
     "name": "stdout",
     "output_type": "stream",
     "text": [
      "programa IMC\n",
      "Digite o seu peso! \n"
     ]
    },
    {
     "name": "stdout",
     "output_type": "stream",
     "text": [
      "Digite sua altura! \n",
      "Dados incorretos\n",
      "Digite o seu peso! \n",
      "Dados incorretos\n",
      "Digite o seu peso! \n",
      "Digite sua altura! \n",
      "Dados incorretos\n",
      "Digite o seu peso! \n",
      "Digite sua altura! \n",
      "Dados incorretos\n",
      "Digite o seu peso! \n",
      "Dados incorretos\n",
      "Digite o seu peso! \n",
      "Dados incorretos\n",
      "Digite o seu peso! \n",
      "Dados incorretos\n",
      "Digite o seu peso! \n"
     ]
    }
   ],
   "source": [
    "print (\"programa IMC\")\n",
    "rodar = True\n",
    "while(rodar):\n",
    "    try:\n",
    "        print(\"Digite o seu peso! \")\n",
    "        peso = float(input())\n",
    "        print(\"Digite sua altura! \")\n",
    "        altura = float(input())\n",
    "        imc = imc_func(peso, altura)\n",
    "\n",
    "        print(imc)\n",
    "        rodar = False\n",
    "    except:\n",
    "        print(\"Dados incorretos\")\n",
    "print(\"finalizado!\")"
   ]
  },
  {
   "cell_type": "code",
   "execution_count": 2,
   "metadata": {},
   "outputs": [
    {
     "name": "stdout",
     "output_type": "stream",
     "text": [
      "\n",
      "Nome: Eduardo Alexandre\n",
      "Sua idade em 2023 é: 39 anos\n"
     ]
    }
   ],
   "source": [
    "import datetime\n",
    "\n",
    "def obter_ano_nascimento():\n",
    "    while True:\n",
    "        entrada = input(\"Digite o ano de nascimento entre (1922-2021): \")\n",
    "\n",
    "        try:\n",
    "            ano_nascimento = int(entrada)\n",
    "            if 1922 <= ano_nascimento <= 2021: ## Se é menor não é aceito e garantimos que não passe\n",
    "                return ano_nascimento\n",
    "            else:\n",
    "                print(\"Ano fora do intervalo permitido. Tente novamente.\")\n",
    "        except ValueError:\n",
    "            print(\"Entrada inválida. Por favor, digite um número válido.\")\n",
    "\n",
    "if __name__ == \"__main__\":\n",
    "    nome_completo = input(\"Digite seu nome completo: \")\n",
    "    ano_nascimento = obter_ano_nascimento()\n",
    "\n",
    "    ano_atual = datetime.datetime.now().year\n",
    "    idade = ano_atual - ano_nascimento\n",
    "\n",
    "    print(f\"\\nNome: {nome_completo}\")\n",
    "    print(f\"Sua idade em 2023 é: {idade} anos\")\n"
   ]
  }
 ],
 "metadata": {
  "kernelspec": {
   "display_name": "Python 3",
   "language": "python",
   "name": "python3"
  },
  "language_info": {
   "codemirror_mode": {
    "name": "ipython",
    "version": 3
   },
   "file_extension": ".py",
   "mimetype": "text/x-python",
   "name": "python",
   "nbconvert_exporter": "python",
   "pygments_lexer": "ipython3",
   "version": "3.11.6"
  }
 },
 "nbformat": 4,
 "nbformat_minor": 2
}
