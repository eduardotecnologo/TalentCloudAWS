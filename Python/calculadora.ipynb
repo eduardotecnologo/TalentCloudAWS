{
 "cells": [
  {
   "cell_type": "code",
   "execution_count": 2,
   "metadata": {},
   "outputs": [
    {
     "name": "stdout",
     "output_type": "stream",
     "text": [
      "Escolha a operação:\n",
      "1: Soma\n",
      "2: Subtração\n",
      "3: Multiplicação\n",
      "4: Divisão\n",
      "*: Sair\n",
      "Resultado:  2.0\n",
      "Escolha a operação:\n",
      "1: Soma\n",
      "2: Subtração\n",
      "3: Multiplicação\n",
      "4: Divisão\n",
      "*: Sair\n",
      "Saindo da calculadora. Até mais!\n"
     ]
    }
   ],
   "source": [
    "def calculadora():\n",
    "    while True:\n",
    "        # Mostra as opções disponíveis\n",
    "        print(\"Escolha a operação:\")\n",
    "        print(\"1: Soma\")\n",
    "        print(\"2: Subtração\")\n",
    "        print(\"3: Multiplicação\")\n",
    "        print(\"4: Divisão\")\n",
    "        print(\"*: Sair\")\n",
    "\n",
    "        # Solicita a escolha do usuário\n",
    "        escolha = input(\"Digite o número da operação desejada: \")\n",
    "\n",
    "        # Verifica a escolha do usuário\n",
    "        if escolha == '*':\n",
    "            print(\"Saindo da calculadora. Até mais!\")\n",
    "            break\n",
    "        elif escolha in ['1', '2', '3', '4']:\n",
    "            # Solicita os valores ao usuário\n",
    "            num1 = float(input(\"Digite o primeiro valor: \"))\n",
    "            num2 = float(input(\"Digite o segundo valor: \"))\n",
    "\n",
    "            # Executa a operação selecionada\n",
    "            if escolha == '1':\n",
    "                resultado = num1 + num2\n",
    "                print(\"Resultado: \", resultado)\n",
    "            elif escolha == '2':\n",
    "                resultado = num1 - num2\n",
    "                print(\"Resultado: \", resultado)\n",
    "            elif escolha == '3':\n",
    "                resultado = num1 * num2\n",
    "                print(\"Resultado: \", resultado)\n",
    "            elif escolha == '4':\n",
    "                if num2 != 0:\n",
    "                    resultado = num1 / num2\n",
    "                    print(\"Resultado: \", resultado)\n",
    "                else:\n",
    "                    print(\"Erro: Divisão por zero.\")\n",
    "        else:\n",
    "            print(\"Essa opção não existe. Tente novamente.\")\n",
    "\n",
    "if __name__ == \"__main__\":\n",
    "    calculadora()\n"
   ]
  }
 ],
 "metadata": {
  "kernelspec": {
   "display_name": "Python 3",
   "language": "python",
   "name": "python3"
  },
  "language_info": {
   "codemirror_mode": {
    "name": "ipython",
    "version": 3
   },
   "file_extension": ".py",
   "mimetype": "text/x-python",
   "name": "python",
   "nbconvert_exporter": "python",
   "pygments_lexer": "ipython3",
   "version": "3.11.6"
  }
 },
 "nbformat": 4,
 "nbformat_minor": 2
}
